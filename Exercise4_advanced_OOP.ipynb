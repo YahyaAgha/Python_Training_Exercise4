{
 "cells": [
  {
   "cell_type": "markdown",
   "metadata": {},
   "source": [
    "#### exercise 1:\n",
    "Create a class named `Car` with the following attributes:\n",
    "- class attribute `car_count` which counts the number of cars created.\n",
    "- instance attributes `color`, `brand`, `year`, and `price`.\n",
    "\n",
    "and the following methods:\n",
    "- a class method `get_car_count` that returns the number of cars created.\n",
    "- a static method `car_info` that returns some information about what a car is."
   ]
  },
  {
   "cell_type": "code",
   "execution_count": 4,
   "metadata": {},
   "outputs": [
    {
     "name": "stdout",
     "output_type": "stream",
     "text": [
      "3\n",
      "A car is a wheeled motor vehicle used for transportation :) .\n"
     ]
    }
   ],
   "source": [
    "class Car:\n",
    "    car_count = 0\n",
    "    def __init__(self, color, brand, year, price):\n",
    "        self.color = color\n",
    "        self.brand = brand\n",
    "        self.year = year\n",
    "        self.price = price\n",
    "        Car.car_count += 1\n",
    "\n",
    "    @classmethod\n",
    "    def get_car_count(cls):\n",
    "        return cls.car_count\n",
    "\n",
    "    @staticmethod\n",
    "    def car_info():\n",
    "        return \"A car is a wheeled motor vehicle used for transportation :) .\"\n",
    "\n",
    "car1 = Car('Red', 'Toyota', 2020, 20000)\n",
    "car2 = Car('Blue', 'Ford', 2019, 18000)\n",
    "car3= Car('White', 'Kia', 2022, 12000)\n",
    "\n",
    "print(Car.get_car_count()) \n",
    "\n",
    "print(Car.car_info()) "
   ]
  },
  {
   "cell_type": "markdown",
   "metadata": {},
   "source": [
    "#### exercise 2:\n",
    "Create a class named `BankAccount` with the following attributes:\n",
    "- class attribute `interest_rate` that is shared among all instances of the class.\n",
    "- instance attributes `name`, `balance`.\n",
    "\n",
    "and the following methods:\n",
    "- a class method `set_interest_rate` that sets the interest rate.\n",
    "- a class method `get_interest_rate` that returns the interest rate.\n",
    "- a method `add_money` that adds a specific amount to the balance.\n",
    "- a method `withdraw_money` that withdraws a specific amount from the balance.\n",
    "- a method `get_account_balance` that returns the current balance of the account.\n",
    "- a method `calculate_annual_interest` that returns the annual interest on the account.\n",
    "> annual interest = balance * interest rate"
   ]
  },
  {
   "cell_type": "code",
   "execution_count": 11,
   "metadata": {},
   "outputs": [
    {
     "name": "stdout",
     "output_type": "stream",
     "text": [
      "Sherlock holmes\n",
      "1300\n",
      "65.0\n",
      "0.03\n"
     ]
    }
   ],
   "source": [
    "\"\"\"class BankAccount:\n",
    "    interest_rate = 0.05\n",
    "\n",
    "    def __init__(self, balance=0):\n",
    "        self.balance = balance\"\"\"\n",
    "\n",
    "class BankAccount:\n",
    "\n",
    "    interest_rate = 0.05\n",
    "\n",
    "    def __init__(self, name, balance=0):\n",
    "       \n",
    "        self.name = name\n",
    "        self.balance = balance\n",
    "\n",
    "    @classmethod\n",
    "    def set_interest_rate(cls, rate):\n",
    "        # Class method to set the interest rate\n",
    "        cls.interest_rate = rate\n",
    "\n",
    "    @classmethod\n",
    "    def get_interest_rate(cls):\n",
    "        # Class method to return the interest rate\n",
    "        return cls.interest_rate\n",
    "\n",
    "    def add_money(self, amount):\n",
    "        # Method to add a specific amount to the balance\n",
    "        self.balance += amount\n",
    "\n",
    "    def withdraw_money(self, amount):\n",
    "        # Method to withdraw a specific amount from the balance\n",
    "        if amount > self.balance:\n",
    "            print(\"Insufficient $$ funds.\")\n",
    "            return False\n",
    "        self.balance -= amount\n",
    "        return True\n",
    "\n",
    "    def get_account_balance(self):\n",
    "        # Method to return the current balance of the account\n",
    "        return self.balance\n",
    "\n",
    "    def calculate_annual_interest(self):\n",
    "        # Method to return the annual interest on the account\n",
    "        return self.balance * BankAccount.interest_rate\n",
    "\n",
    "\n",
    "account = BankAccount('Sherlock holmes', 1000)\n",
    "\n",
    "print(account.name)\n",
    "\n",
    "# Add money to the account\n",
    "account.add_money(500)\n",
    "\n",
    "# Withdraw money from the account\n",
    "account.withdraw_money(200)\n",
    "\n",
    "# Get the current account balance\n",
    "print(account.get_account_balance())  \n",
    "\n",
    "# Calculate  annual interest\n",
    "print(account.calculate_annual_interest())  \n",
    "\n",
    "# Set a new interest rate using the class method\n",
    "BankAccount.set_interest_rate(0.03)\n",
    "\n",
    "# Get the updated interest rate using the class method\n",
    "print(BankAccount.get_interest_rate())  "
   ]
  },
  {
   "cell_type": "markdown",
   "metadata": {},
   "source": [
    "#### exercise 3:\n",
    "Create a class named `Person` with the following specifications:\n",
    "- private instance attributes `__name`, `__last_name`, `__age`.\n",
    "- create methods using `@property` decorator to return the values of the attributes.\n",
    "- create methods using `@<property_name>.setter` decorator to set the values of the attributes."
   ]
  },
  {
   "cell_type": "code",
   "execution_count": 8,
   "metadata": {},
   "outputs": [
    {
     "name": "stdout",
     "output_type": "stream",
     "text": [
      "John\n",
      "Jane\n",
      "Doe\n",
      "Smith\n",
      "30\n",
      "25\n"
     ]
    }
   ],
   "source": [
    "class Person:\n",
    "    def __init__(self, name, last_name, age):\n",
    "        self.__name = name\n",
    "        self.__last_name = last_name\n",
    "        self.__age = age\n",
    "\n",
    "    @property\n",
    "    def name(self):\n",
    "       \n",
    "        return self.__name\n",
    "\n",
    "    @name.setter\n",
    "    def name(self, value):\n",
    "       \n",
    "        self.__name = value\n",
    "\n",
    "    @property\n",
    "    def last_name(self):\n",
    "    \n",
    "        return self.__last_name\n",
    "\n",
    "    @last_name.setter\n",
    "    def last_name(self, value):\n",
    "        \n",
    "        self.__last_name = value\n",
    "\n",
    "    @property\n",
    "    def age(self):\n",
    "       \n",
    "        return self.__age\n",
    "\n",
    "    @age.setter\n",
    "    def age(self, value):\n",
    "        \n",
    "        if isinstance(value, int) and value >= 0:\n",
    "            self.__age = value\n",
    "        else:\n",
    "            raise ValueError(\"Age must be a non-negative integer\")\n",
    "\n",
    "\n",
    "person = Person('John', 'Doe', 30)\n",
    "\n",
    "\n",
    "print(person.name)  \n",
    "\n",
    "\n",
    "person.name = 'Jane'\n",
    "print(person.name)  \n",
    "\n",
    "\n",
    "print(person.last_name)  \n",
    "\n",
    "\n",
    "person.last_name = 'Smith'\n",
    "print(person.last_name)  \n",
    "\n",
    "\n",
    "print(person.age) \n",
    "\n",
    "\n",
    "person.age = 25\n",
    "print(person.age)\n",
    "\n",
    "\n"
   ]
  },
  {
   "cell_type": "markdown",
   "metadata": {},
   "source": [
    "#### exercise 4:\n",
    "Create a class named `Employee` with the following attributes:\n",
    "- instance attributes `name`, `salary`.\n",
    "\n",
    "Create a class named `Manager` with the following attributes:\n",
    "- instance attribute `department`.\n",
    "\n",
    "Create a class Executive that inherits from both `Employee` and `Manager` classes and has the following attributes:\n",
    "- instance attributes `company_car`, `bonus`.\n",
    "- implement an appropriate `__str__` method to print the information about the executive."
   ]
  },
  {
   "cell_type": "code",
   "execution_count": 9,
   "metadata": {},
   "outputs": [
    {
     "name": "stdout",
     "output_type": "stream",
     "text": [
      "Executive Sara Ahmed, Department: Sales, Salary: 15000, Company Car: RAF-4, Bonus: 2500\n"
     ]
    }
   ],
   "source": [
    "class Employee:\n",
    "    def __init__(self, name, salary):\n",
    "        self.name = name\n",
    "        self.salary = salary\n",
    "\n",
    "class Manager:\n",
    "    def __init__(self, department):\n",
    "        self.department = department\n",
    "\n",
    "class Executive(Employee, Manager):\n",
    "    def __init__(self, name, salary, department, company_car, bonus):\n",
    "        \n",
    "        Employee.__init__(self, name, salary)\n",
    "        Manager.__init__(self, department)\n",
    "     \n",
    "        self.company_car = company_car\n",
    "        self.bonus = bonus\n",
    "\n",
    "    def __str__(self):\n",
    "        \n",
    "        return (f\"Executive {self.name}, Department: {self.department}, \"\n",
    "                f\"Salary: {self.salary}, Company Car: {self.company_car}, Bonus: {self.bonus}\")\n",
    "\n",
    "\n",
    "executive = Executive(name=\"Sara Ahmed\", salary=15000, department=\"Sales\",\n",
    "                      company_car=\"RAF-4\", bonus=2500)\n",
    "\n",
    "\n",
    "print(executive)"
   ]
  },
  {
   "cell_type": "markdown",
   "metadata": {},
   "source": [
    "#### exercise 5:\n",
    "Using method chaining, create a class `Person` with the following attributes:\n",
    "- instance attributes `name`, `age`.\n",
    "\n",
    "and the following methods:\n",
    "- a method `set_name` that sets the name of the person and returns the instance.\n",
    "- a method `set_age` that sets the age of the person and returns the instance.\n",
    "- a method `get_person_info` that returns the information about the person."
   ]
  },
  {
   "cell_type": "code",
   "execution_count": 4,
   "metadata": {},
   "outputs": [
    {
     "name": "stdout",
     "output_type": "stream",
     "text": [
      "Name: Yahya Kassam, Age: 30\n"
     ]
    }
   ],
   "source": [
    "class Person:\n",
    "    def __init__(self, name=None, age=None):\n",
    "        self.name = name\n",
    "        self.age = age\n",
    "\n",
    "    def Set_name(self, name):  \n",
    "        self.name = name\n",
    "        return self\n",
    "\n",
    "    def set_age(self, age):\n",
    "        self.age = age\n",
    "        return self\n",
    "\n",
    "    def get_person_info(self):\n",
    "        return f\"Name: {self.name}, Age: {self.age}\"\n",
    "\n",
    "person = Person().Set_name(\"Yahya Kassam\").set_age(30)\n",
    "\n",
    "print(person.get_person_info())\n",
    "    "
   ]
  }
 ],
 "metadata": {
  "kernelspec": {
   "display_name": "Python 3",
   "language": "python",
   "name": "python3"
  },
  "language_info": {
   "codemirror_mode": {
    "name": "ipython",
    "version": 3
   },
   "file_extension": ".py",
   "mimetype": "text/x-python",
   "name": "python",
   "nbconvert_exporter": "python",
   "pygments_lexer": "ipython3",
   "version": "3.12.3"
  }
 },
 "nbformat": 4,
 "nbformat_minor": 2
}
